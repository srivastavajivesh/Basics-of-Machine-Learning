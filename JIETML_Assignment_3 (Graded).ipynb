{
 "cells": [
  {
   "cell_type": "markdown",
   "metadata": {},
   "source": [
    "# INSTRUCTIONS\n",
    "\n",
    "Read the instructions metioned below carefully before attempting the assignment:\n",
    "\n",
    "    - This assignment has 16 questions and all the questions are mandatory.\n",
    "    - Read the desciption of the dataset mentioned below carefully.\n",
    "    - Each question has been commented and written in an independent cell.\n",
    "    - Write your code in the cell just below the question (Refer Ques-1 - It has been solved for you to understand)\n",
    "    - Try to submit the assignment within the deadline.\n",
    "    - Plagiarism will have a huge penality.\n",
    "    - After completing the assignment upload this notebook to your github and submit the assignment on Google Classroom.\n",
    "    \n",
    "    \n",
    "##### Download the Dataset file(.csv) from here:\n",
    "\n",
    "https://drive.google.com/file/d/17yZ1NSSsRrDF7qfGOJyGHRDDiBce7EQN/view?usp=sharing"
   ]
  },
  {
   "cell_type": "markdown",
   "metadata": {},
   "source": [
    "\n",
    "# The Adult Income dataset\n",
    "\n",
    "### Description\n",
    "\n",
    "Title of dataset: adult.csv\n",
    "\n",
    "Sources:\n",
    "\n",
    "    * Original owners of database - US Census Bureau\n",
    "    * Donor of database - Ronny Kohavi and Barry Becker\n",
    "    * Date received - 05/19/96 \n",
    "    \n",
    "Number of Instances\n",
    "\n",
    "    * 48842 instances, mix of continuous and discrete (train=32561, test=16281)\n",
    "    * 45222 if instances with unknown values are removed (train=30162, test=15060)\n",
    "    * Split into train-test using MLC++ GenCVFiles (2/3, 1/3 random).\n",
    "\n",
    "Number of Attributes/Fearures/Columns\n",
    "\n",
    "    * 6 continuous, 8 nominal attributes. \n",
    "\n",
    "Attribute Information/Fearures/Columns\n",
    "\n",
    "    * age: continuous.\n",
    "    * workclass: Private, Self-emp-not-inc, Self-emp-inc, Federal-gov, Local-gov, State-gov, Without-pay, Never-worked.\n",
    "    * fnlwgt: continuous.\n",
    "    * education: Bachelors, Some-college, 11th, HS-grad, Prof-school, Assoc-acdm, Assoc-voc, 9th, 7th-8th, 12th, Masters, 1st-4th, 10th, Doctorate, 5th-6th, Preschool.\n",
    "    * education-num: continuous.\n",
    "    * marital-status: Married-civ-spouse, Divorced, Never-married, Separated, Widowed, Married-spouse-absent, Married-AF-spouse.\n",
    "    * occupation: Tech-support, Craft-repair, Other-service, Sales, Exec-managerial, Prof-specialty, Handlers-cleaners, Machine-op-inspct, Adm-clerical, Farming-fishing, Transport-moving, Priv-house-serv, Protective-serv, Armed-Forces.\n",
    "    * relationship: Wife, Own-child, Husband, Not-in-family, Other-relative, Unmarried.\n",
    "    * race: White, Asian-Pac-Islander, Amer-Indian-Eskimo, Other, Black.\n",
    "    * sex: Female, Male.\n",
    "    * capital-gain: continuous.\n",
    "    * capital-loss: continuous.\n",
    "    * hours-per-week: continuous.\n",
    "    * native-country: United-States, Cambodia, England, Puerto-Rico, Canada, Germany, Outlying-US(Guam-USVI-etc), India, Japan, Greece, South, China, Cuba, Iran, Honduras, Philippines, Italy, Poland, Jamaica, Vietnam, Mexico, Portugal, Ireland, France, Dominican-Republic, Laos, Ecuador, Taiwan, Haiti, Columbia, Hungary, Guatemala, Nicaragua, Scotland, Thailand, Yugoslavia, El-Salvador, Trinadad&Tobago, Peru, Hong, Holand-Netherlands.\n",
    "    * income: >50K, <=50K \n",
    "    \n",
    "Missing Values:\n",
    "     \n",
    "     7% rows have missing values. \n",
    "     \n"
   ]
  },
  {
   "cell_type": "code",
   "execution_count": 3,
   "metadata": {},
   "outputs": [],
   "source": [
    "# Q1 - Import the required Library (Sample question and answer)\n",
    "\n",
    "import numpy as np\n",
    "import pandas as pd"
   ]
  },
  {
   "cell_type": "code",
   "execution_count": 4,
   "metadata": {},
   "outputs": [],
   "source": [
    "# Q2 - Read the csv file to the pandas dataframe\n",
    "\n"
   ]
  },
  {
   "cell_type": "code",
   "execution_count": 5,
   "metadata": {},
   "outputs": [],
   "source": [
    "# Q3 - Display the top 5 rows of the dataframe\n",
    "\n"
   ]
  },
  {
   "cell_type": "code",
   "execution_count": 6,
   "metadata": {},
   "outputs": [],
   "source": [
    "# Q4 - Display the bottom 5 rows of the dataframe\n",
    "\n"
   ]
  },
  {
   "cell_type": "code",
   "execution_count": 7,
   "metadata": {},
   "outputs": [],
   "source": [
    "# Q5 - How many columns and rows are there in the dataframe?\n",
    "\n"
   ]
  },
  {
   "cell_type": "code",
   "execution_count": 8,
   "metadata": {},
   "outputs": [],
   "source": [
    "# Q6 - Display a breif overview of all the columns data type and missing values?\n",
    "\n"
   ]
  },
  {
   "cell_type": "code",
   "execution_count": 9,
   "metadata": {},
   "outputs": [],
   "source": [
    "# Q7 - Display the descriptive statistical analysis on numerical columns of the dataframe?\n",
    "\n"
   ]
  },
  {
   "cell_type": "code",
   "execution_count": 10,
   "metadata": {},
   "outputs": [],
   "source": [
    "# Q8 - Display the value count on the 'income' column\n",
    "\n"
   ]
  },
  {
   "cell_type": "code",
   "execution_count": 11,
   "metadata": {},
   "outputs": [],
   "source": [
    "# Q9 - Display the percentage of working men and women in the dataframe?\n",
    "\n"
   ]
  },
  {
   "cell_type": "code",
   "execution_count": 12,
   "metadata": {},
   "outputs": [],
   "source": [
    "# Q10 - Select hours-per-week from dataframe where gender is female\n",
    "\n"
   ]
  },
  {
   "cell_type": "code",
   "execution_count": 13,
   "metadata": {},
   "outputs": [],
   "source": [
    "# Q11 - Select hours-per-week from dataframe where gender is male\n",
    "\n"
   ]
  },
  {
   "cell_type": "code",
   "execution_count": 14,
   "metadata": {},
   "outputs": [],
   "source": [
    "# Q12.1 - Groupby on the gender column and display first()\n",
    "\n"
   ]
  },
  {
   "cell_type": "code",
   "execution_count": 15,
   "metadata": {},
   "outputs": [],
   "source": [
    "# Q12.2 - Display the basic statistical analysis of 'hours-per-week' from male and female point\n",
    "\n"
   ]
  },
  {
   "cell_type": "code",
   "execution_count": null,
   "metadata": {},
   "outputs": [],
   "source": [
    "# Q13.1 - Groupby on the race column and display first()\n",
    "\n"
   ]
  },
  {
   "cell_type": "code",
   "execution_count": null,
   "metadata": {},
   "outputs": [],
   "source": [
    "# Q13.2 - Display the basic statistical analysis of 'hours-per-week' for different race\n",
    "\n"
   ]
  },
  {
   "cell_type": "code",
   "execution_count": 16,
   "metadata": {},
   "outputs": [],
   "source": [
    "# Q14 - Display the percentage distribution of gender vs income\n",
    "# HINT -> Checkout pandas crosstab function\n",
    "\n"
   ]
  },
  {
   "cell_type": "code",
   "execution_count": 17,
   "metadata": {},
   "outputs": [],
   "source": [
    "# Q15 - Display the percentage distribution of marital-status vs income\n",
    "# HINT -> Checkout pandas crosstab function\n",
    "\n"
   ]
  },
  {
   "cell_type": "code",
   "execution_count": 18,
   "metadata": {},
   "outputs": [],
   "source": [
    "# Q16 - Display the percentage distribution of race vs income\n",
    "# HINT -> Checkout pandas crosstab function\n",
    "\n"
   ]
  }
 ],
 "metadata": {
  "kernelspec": {
   "display_name": "Python 3",
   "language": "python",
   "name": "python3"
  },
  "language_info": {
   "codemirror_mode": {
    "name": "ipython",
    "version": 3
   },
   "file_extension": ".py",
   "mimetype": "text/x-python",
   "name": "python",
   "nbconvert_exporter": "python",
   "pygments_lexer": "ipython3",
   "version": "3.7.6"
  }
 },
 "nbformat": 4,
 "nbformat_minor": 4
}
