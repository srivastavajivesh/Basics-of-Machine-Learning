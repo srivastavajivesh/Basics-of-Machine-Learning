{
 "cells": [
  {
   "cell_type": "code",
   "execution_count": 7,
   "metadata": {},
   "outputs": [
    {
     "name": "stdout",
     "output_type": "stream",
     "text": [
      "The original innput is : [4, 4, 5, 6, 8, 4, 5]\n",
      " The list after removing duplicates : [4, 5, 6, 8]\n"
     ]
    }
   ],
   "source": [
    "sample_input = [4,4,5,6,8,4,5]\n",
    "print ( \"The original innput is : \" + str(sample_input))\n",
    "res = []\n",
    "[res.append(x) for x in sample_input if x not in res]\n",
    "print( \" The list after removing duplicates : \" + str(res))"
   ]
  },
  {
   "cell_type": "code",
   "execution_count": 19,
   "metadata": {},
   "outputs": [
    {
     "name": "stdout",
     "output_type": "stream",
     "text": [
      "11\n",
      "21855\n",
      "2000\n",
      "1900\n"
     ]
    }
   ],
   "source": [
    "my_tuple = (2000,1999,1998,1997,1996,1995,1994,1993,1992,1991,1900)\n",
    "print(len(my_tuple))\n",
    "numbers_sum = sum(my_tuple)\n",
    "print(numbers_sum)\n",
    "print (max(my_tuple))\n",
    "print (min(my_tuple))"
   ]
  },
  {
   "cell_type": "code",
   "execution_count": 5,
   "metadata": {},
   "outputs": [
    {
     "name": "stdout",
     "output_type": "stream",
     "text": [
      "The original list 1 is : [1, 2, 3, 4, 5, 6, 7, 8, 9, 10]\n",
      "The original list 2 is : [11, 12, 13, 14, 15, 16, 17, 18, 19, 20]\n",
      "The combined sorted list is :[1, 2, 3, 4, 5, 6, 7, 8, 9, 10, 11, 12, 13, 14, 15, 16, 17, 18, 19, 20]\n"
     ]
    }
   ],
   "source": [
    "list_1 = [1,2,3,4,5,6,7,8,9,10]\n",
    "list_2 = [11,12,13,14,15,16,17,18,19,20]\n",
    "print(\"The original list 1 is : \" + str(list_1))\n",
    "print(\"The original list 2 is : \" + str(list_2))\n",
    "res = sorted( list_1 + list_2)\n",
    "list_1 , list_2.sort()\n",
    "print(\"The combined sorted list is :\" + str(res))"
   ]
  },
  {
   "cell_type": "code",
   "execution_count": 4,
   "metadata": {},
   "outputs": [
    {
     "name": "stdout",
     "output_type": "stream",
     "text": [
      "Enter the number\n",
      "2\n",
      "1\n"
     ]
    }
   ],
   "source": [
    "arr = [\"1\" , \"0\"]\n",
    "print (\"Enter the number\")\n",
    "no = input()\n",
    "print(arr[int (no) % 2])"
   ]
  },
  {
   "cell_type": "code",
   "execution_count": 20,
   "metadata": {},
   "outputs": [
    {
     "name": "stdout",
     "output_type": "stream",
     "text": [
      "Ath bit set number =  15\n"
     ]
    }
   ],
   "source": [
    "def setAthBit(n,k):\n",
    "    return((1<<k) | n)\n",
    "n = 13\n",
    "k = 1\n",
    "print (\"Ath bit set number = \" , setAthBit(n,k))"
   ]
  },
  {
   "cell_type": "code",
   "execution_count": 23,
   "metadata": {},
   "outputs": [
    {
     "name": "stdout",
     "output_type": "stream",
     "text": [
      "0 : Oslo\n",
      "50 : Moscow\n",
      "70 : Berlin\n",
      "100 :  Nairobi\n"
     ]
    }
   ],
   "source": [
    "marks = { 70 : \"Berlin\" , 0 : \"Oslo\" , 50 : \"Moscow\" , 100 : \" Nairobi\"}\n",
    "for s in sorted(marks):\n",
    "    print(s,\":\",marks[s])"
   ]
  }
 ],
 "metadata": {
  "kernelspec": {
   "display_name": "Python 3",
   "language": "python",
   "name": "python3"
  },
  "language_info": {
   "codemirror_mode": {
    "name": "ipython",
    "version": 3
   },
   "file_extension": ".py",
   "mimetype": "text/x-python",
   "name": "python",
   "nbconvert_exporter": "python",
   "pygments_lexer": "ipython3",
   "version": "3.6.5"
  }
 },
 "nbformat": 4,
 "nbformat_minor": 2
}
